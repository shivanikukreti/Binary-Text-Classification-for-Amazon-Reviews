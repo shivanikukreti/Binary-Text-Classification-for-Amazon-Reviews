{
 "cells": [
  {
   "cell_type": "code",
   "execution_count": 0,
   "metadata": {
    "colab": {},
    "colab_type": "code",
    "id": "lPquhiMwBmkQ"
   },
   "outputs": [],
   "source": [
    "from fastai.text import *\n",
    "import numpy as np"
   ]
  },
  {
   "cell_type": "code",
   "execution_count": 2,
   "metadata": {
    "colab": {
     "base_uri": "https://localhost:8080/",
     "height": 34
    },
    "colab_type": "code",
    "id": "Wda6FbT7LMg0",
    "outputId": "a4b085ff-f449-4a98-f6b9-99fb01e47a0f"
   },
   "outputs": [
    {
     "data": {
      "text/plain": [
       "'1.0.59'"
      ]
     },
     "execution_count": 2,
     "metadata": {
      "tags": []
     },
     "output_type": "execute_result"
    }
   ],
   "source": [
    "import fastai; fastai.__version__"
   ]
  },
  {
   "cell_type": "code",
   "execution_count": 3,
   "metadata": {
    "colab": {
     "base_uri": "https://localhost:8080/",
     "height": 204
    },
    "colab_type": "code",
    "id": "KVjdIDXcA-4N",
    "outputId": "3d3d9892-9fff-4a32-c062-c5deeecbae0a"
   },
   "outputs": [
    {
     "name": "stdout",
     "output_type": "stream",
     "text": [
      "--2019-11-04 09:59:53--  https://s3.amazonaws.com/fast-ai-nlp/amazon_review_polarity_csv.tgz\n",
      "Resolving s3.amazonaws.com (s3.amazonaws.com)... 52.216.137.62\n",
      "Connecting to s3.amazonaws.com (s3.amazonaws.com)|52.216.137.62|:443... connected.\n",
      "HTTP request sent, awaiting response... 200 OK\n",
      "Length: 688339454 (656M) [application/x-tar]\n",
      "Saving to: ‘amazon_review_polarity_csv.tgz’\n",
      "\n",
      "amazon_review_polar 100%[===================>] 656.45M  16.4MB/s    in 43s     \n",
      "\n",
      "2019-11-04 10:00:36 (15.4 MB/s) - ‘amazon_review_polarity_csv.tgz’ saved [688339454/688339454]\n",
      "\n"
     ]
    }
   ],
   "source": [
    "!wget https://s3.amazonaws.com/fast-ai-nlp/amazon_review_polarity_csv.tgz"
   ]
  },
  {
   "cell_type": "code",
   "execution_count": 4,
   "metadata": {
    "colab": {
     "base_uri": "https://localhost:8080/",
     "height": 85
    },
    "colab_type": "code",
    "id": "8rQxmBKIBoti",
    "outputId": "39fd58a7-49a0-42cd-f6c5-f85ca612d576"
   },
   "outputs": [
    {
     "name": "stdout",
     "output_type": "stream",
     "text": [
      "amazon_review_polarity_csv/\n",
      "amazon_review_polarity_csv/train.csv\n",
      "amazon_review_polarity_csv/readme.txt\n",
      "amazon_review_polarity_csv/test.csv\n"
     ]
    }
   ],
   "source": [
    "!tar -xvzf amazon_review_polarity_csv.tgz"
   ]
  },
  {
   "cell_type": "code",
   "execution_count": 0,
   "metadata": {
    "colab": {},
    "colab_type": "code",
    "id": "bPECCtDhB_yB"
   },
   "outputs": [],
   "source": [
    "path = Path('amazon_review_polarity_csv')"
   ]
  },
  {
   "cell_type": "code",
   "execution_count": 6,
   "metadata": {
    "colab": {
     "base_uri": "https://localhost:8080/",
     "height": 68
    },
    "colab_type": "code",
    "id": "16yLo7MwCATH",
    "outputId": "62bd30ea-d94e-45ab-d511-b0ed22e770fb"
   },
   "outputs": [
    {
     "data": {
      "text/plain": [
       "[PosixPath('amazon_review_polarity_csv/test.csv'),\n",
       " PosixPath('amazon_review_polarity_csv/readme.txt'),\n",
       " PosixPath('amazon_review_polarity_csv/train.csv')]"
      ]
     },
     "execution_count": 6,
     "metadata": {
      "tags": []
     },
     "output_type": "execute_result"
    }
   ],
   "source": [
    "path.ls()"
   ]
  },
  {
   "cell_type": "code",
   "execution_count": 7,
   "metadata": {
    "colab": {
     "base_uri": "https://localhost:8080/",
     "height": 51
    },
    "colab_type": "code",
    "id": "-NphbFDSCFLq",
    "outputId": "228b1788-43cb-4a4e-d0cf-eeb7a38e4bbd"
   },
   "outputs": [
    {
     "name": "stdout",
     "output_type": "stream",
     "text": [
      "CPU times: user 14.5 s, sys: 1.3 s, total: 15.8 s\n",
      "Wall time: 15.8 s\n"
     ]
    }
   ],
   "source": [
    "%%time\n",
    "df = pd.read_csv(path/'train.csv', header = None)\n",
    "df.head(5)"
   ]
  },
  {
   "cell_type": "code",
   "execution_count": 8,
   "metadata": {
    "colab": {
     "base_uri": "https://localhost:8080/",
     "height": 221
    },
    "colab_type": "code",
    "id": "RpNbKeznCxzl",
    "outputId": "5ed86de8-fe98-4ced-f7c3-79da11696b7d"
   },
   "outputs": [
    {
     "name": "stdout",
     "output_type": "stream",
     "text": [
      "df.shape: (3600000, 3)\n"
     ]
    },
    {
     "data": {
      "text/html": [
       "<div>\n",
       "<style scoped>\n",
       "    .dataframe tbody tr th:only-of-type {\n",
       "        vertical-align: middle;\n",
       "    }\n",
       "\n",
       "    .dataframe tbody tr th {\n",
       "        vertical-align: top;\n",
       "    }\n",
       "\n",
       "    .dataframe thead th {\n",
       "        text-align: right;\n",
       "    }\n",
       "</style>\n",
       "<table border=\"1\" class=\"dataframe\">\n",
       "  <thead>\n",
       "    <tr style=\"text-align: right;\">\n",
       "      <th></th>\n",
       "      <th>label</th>\n",
       "      <th>text</th>\n",
       "      <th>is_valid</th>\n",
       "    </tr>\n",
       "  </thead>\n",
       "  <tbody>\n",
       "    <tr>\n",
       "      <th>0</th>\n",
       "      <td>2</td>\n",
       "      <td>This sound track was beautiful! It paints the ...</td>\n",
       "      <td>False</td>\n",
       "    </tr>\n",
       "    <tr>\n",
       "      <th>1</th>\n",
       "      <td>2</td>\n",
       "      <td>I'm reading a lot of reviews saying that this ...</td>\n",
       "      <td>False</td>\n",
       "    </tr>\n",
       "    <tr>\n",
       "      <th>2</th>\n",
       "      <td>2</td>\n",
       "      <td>This soundtrack is my favorite music of all ti...</td>\n",
       "      <td>False</td>\n",
       "    </tr>\n",
       "    <tr>\n",
       "      <th>3</th>\n",
       "      <td>2</td>\n",
       "      <td>I truly like this soundtrack and I enjoy video...</td>\n",
       "      <td>False</td>\n",
       "    </tr>\n",
       "    <tr>\n",
       "      <th>4</th>\n",
       "      <td>2</td>\n",
       "      <td>If you've played the game, you know how divine...</td>\n",
       "      <td>False</td>\n",
       "    </tr>\n",
       "  </tbody>\n",
       "</table>\n",
       "</div>"
      ],
      "text/plain": [
       "   label                                               text  is_valid\n",
       "0      2  This sound track was beautiful! It paints the ...     False\n",
       "1      2  I'm reading a lot of reviews saying that this ...     False\n",
       "2      2  This soundtrack is my favorite music of all ti...     False\n",
       "3      2  I truly like this soundtrack and I enjoy video...     False\n",
       "4      2  If you've played the game, you know how divine...     False"
      ]
     },
     "execution_count": 8,
     "metadata": {
      "tags": []
     },
     "output_type": "execute_result"
    }
   ],
   "source": [
    "df.rename(columns={0 : 'label', 1 : 'Review_Title', 2 : 'text'}, inplace = True)\n",
    "df = df[['label', 'text']].copy()\n",
    "df['is_valid'] = False\n",
    "print(f\"df.shape: {df.shape}\")\n",
    "df.head()"
   ]
  },
  {
   "cell_type": "code",
   "execution_count": 9,
   "metadata": {
    "colab": {
     "base_uri": "https://localhost:8080/",
     "height": 34
    },
    "colab_type": "code",
    "id": "XQDsWFUg7oQa",
    "outputId": "7a13b51e-b7a9-4cbe-f8ee-41d9c10a88e1"
   },
   "outputs": [
    {
     "data": {
      "text/plain": [
       "((25000, 3), (25000, 3))"
      ]
     },
     "execution_count": 9,
     "metadata": {
      "tags": []
     },
     "output_type": "execute_result"
    }
   ],
   "source": [
    "neg = df.query(\"label==1\").sample(25000, random_state=1)\n",
    "pos = df.query(\"label==2\").sample(25000, random_state=1)\n",
    "pos.shape, neg.shape"
   ]
  },
  {
   "cell_type": "code",
   "execution_count": 10,
   "metadata": {
    "colab": {
     "base_uri": "https://localhost:8080/",
     "height": 204
    },
    "colab_type": "code",
    "id": "5wYF4zda800H",
    "outputId": "2196ae7d-d7be-44e1-8cc4-8cabc3164f5e"
   },
   "outputs": [
    {
     "data": {
      "text/html": [
       "<div>\n",
       "<style scoped>\n",
       "    .dataframe tbody tr th:only-of-type {\n",
       "        vertical-align: middle;\n",
       "    }\n",
       "\n",
       "    .dataframe tbody tr th {\n",
       "        vertical-align: top;\n",
       "    }\n",
       "\n",
       "    .dataframe thead th {\n",
       "        text-align: right;\n",
       "    }\n",
       "</style>\n",
       "<table border=\"1\" class=\"dataframe\">\n",
       "  <thead>\n",
       "    <tr style=\"text-align: right;\">\n",
       "      <th></th>\n",
       "      <th>label</th>\n",
       "      <th>text</th>\n",
       "      <th>is_valid</th>\n",
       "    </tr>\n",
       "  </thead>\n",
       "  <tbody>\n",
       "    <tr>\n",
       "      <th>0</th>\n",
       "      <td>2</td>\n",
       "      <td>This knee strap has helped me greatly when I'm...</td>\n",
       "      <td>False</td>\n",
       "    </tr>\n",
       "    <tr>\n",
       "      <th>1</th>\n",
       "      <td>2</td>\n",
       "      <td>Purchased 2 keyboards for grand daughters for ...</td>\n",
       "      <td>False</td>\n",
       "    </tr>\n",
       "    <tr>\n",
       "      <th>2</th>\n",
       "      <td>2</td>\n",
       "      <td>My sons 2dr camry coup needed a new windor reg...</td>\n",
       "      <td>False</td>\n",
       "    </tr>\n",
       "    <tr>\n",
       "      <th>3</th>\n",
       "      <td>2</td>\n",
       "      <td>I love this cell phone. I haven't had any trou...</td>\n",
       "      <td>False</td>\n",
       "    </tr>\n",
       "    <tr>\n",
       "      <th>4</th>\n",
       "      <td>2</td>\n",
       "      <td>This movie is based on only a slightly fiction...</td>\n",
       "      <td>False</td>\n",
       "    </tr>\n",
       "  </tbody>\n",
       "</table>\n",
       "</div>"
      ],
      "text/plain": [
       "   label                                               text  is_valid\n",
       "0      2  This knee strap has helped me greatly when I'm...     False\n",
       "1      2  Purchased 2 keyboards for grand daughters for ...     False\n",
       "2      2  My sons 2dr camry coup needed a new windor reg...     False\n",
       "3      2  I love this cell phone. I haven't had any trou...     False\n",
       "4      2  This movie is based on only a slightly fiction...     False"
      ]
     },
     "execution_count": 10,
     "metadata": {
      "tags": []
     },
     "output_type": "execute_result"
    }
   ],
   "source": [
    "df = pd.concat([pos, neg]).reset_index(drop=True).copy()\n",
    "num_val = int(0.1*len(df))\n",
    "df.iloc[-num_val:,2]=True\n",
    "df.head()"
   ]
  },
  {
   "cell_type": "code",
   "execution_count": 0,
   "metadata": {
    "colab": {},
    "colab_type": "code",
    "id": "NpQrzx8ei37Q"
   },
   "outputs": [],
   "source": [
    "bs=48"
   ]
  },
  {
   "cell_type": "code",
   "execution_count": 0,
   "metadata": {
    "colab": {},
    "colab_type": "code",
    "id": "8w8fB64XLMhR"
   },
   "outputs": [],
   "source": [
    "data_lm = (TextList.from_df(df, path, cols='text')\n",
    "                .split_from_df(col=2)\n",
    "                .label_for_lm()\n",
    "                .databunch(bs=bs))"
   ]
  },
  {
   "cell_type": "code",
   "execution_count": 13,
   "metadata": {
    "colab": {
     "base_uri": "https://localhost:8080/",
     "height": 289
    },
    "colab_type": "code",
    "id": "en_XMjoVj23Z",
    "outputId": "e724c4c4-79de-459c-883c-a36d18b69f89"
   },
   "outputs": [
    {
     "data": {
      "text/html": [
       "<table border=\"1\" class=\"dataframe\">\n",
       "  <thead>\n",
       "    <tr style=\"text-align: right;\">\n",
       "      <th>idx</th>\n",
       "      <th>text</th>\n",
       "    </tr>\n",
       "  </thead>\n",
       "  <tbody>\n",
       "    <tr>\n",
       "      <td>0</td>\n",
       "      <td>able to sleep most of the time without taking any meds . i sometimes use it while walking and it has helped relieve that pain too and support my knee well . xxmaj the top strap tends to slide down a lot , but the bottom strap has never slipped . xxmaj it needs some sort of side supports to help keep the top strap in place . ( i</td>\n",
       "    </tr>\n",
       "    <tr>\n",
       "      <td>1</td>\n",
       "      <td>once again xxmaj irving has created an odd lot of characters , mostly likeable , although in the case of xxmaj ted , it is sometimes difficult . xxmaj read this book with your disbelief willingly suspended . xxmaj there are a few too many hard - to - swallow coincidences coupled with a pat ending to make this a xxup great novel , but as usual you read xxmaj</td>\n",
       "    </tr>\n",
       "    <tr>\n",
       "      <td>2</td>\n",
       "      <td>the basic version seems to work the same and its quality also do n't differs , but basic is $ 20 . xxmaj go to your local walmart / target / kmart and they may have both basic and pro and you can play with the models to see which works best for xxunk or $ 40 ? xxbos i got this ages ago and it still works as good</td>\n",
       "    </tr>\n",
       "    <tr>\n",
       "      <td>3</td>\n",
       "      <td>it freezes without becoming stiff and works great for icing down after home therapy . xxbos xxmaj this is a really fun movie . i love \" reliving \" life in the 60s and this has it all ! xxmaj just be ready to sing the song from the movie all day after watching it . xxbos xxmaj simple design that 's easy to use . i can understand some</td>\n",
       "    </tr>\n",
       "    <tr>\n",
       "      <td>4</td>\n",
       "      <td>i felt \" her \" entries were endearing . xxmaj many would agree that if you were to write something of this manner for your child , it should be about the wonderful ways they grew up and the special times that were shared with their family . xxmaj this book would be best enjoyed on a lazy xxmaj saturday or xxmaj sunday afternoon when you have the time to</td>\n",
       "    </tr>\n",
       "  </tbody>\n",
       "</table>"
      ],
      "text/plain": [
       "<IPython.core.display.HTML object>"
      ]
     },
     "metadata": {
      "tags": []
     },
     "output_type": "display_data"
    }
   ],
   "source": [
    "data_lm.show_batch()"
   ]
  },
  {
   "cell_type": "code",
   "execution_count": 14,
   "metadata": {
    "colab": {
     "base_uri": "https://localhost:8080/",
     "height": 34
    },
    "colab_type": "code",
    "id": "d27K_2VCLMhT",
    "outputId": "301f0f49-f06e-43cf-d211-6dda5d444a2f"
   },
   "outputs": [
    {
     "data": {
      "text/plain": [
       "28216"
      ]
     },
     "execution_count": 14,
     "metadata": {
      "tags": []
     },
     "output_type": "execute_result"
    }
   ],
   "source": [
    "len(data_lm.vocab.itos)"
   ]
  },
  {
   "cell_type": "code",
   "execution_count": 0,
   "metadata": {
    "colab": {},
    "colab_type": "code",
    "id": "FuwGYcrk-7TG"
   },
   "outputs": [],
   "source": [
    "learn = language_model_learner(data_lm, AWD_LSTM, drop_mult=0.3)"
   ]
  },
  {
   "cell_type": "code",
   "execution_count": 16,
   "metadata": {
    "colab": {
     "base_uri": "https://localhost:8080/",
     "height": 34
    },
    "colab_type": "code",
    "id": "TjxmVQPc_Lo7",
    "outputId": "b2a82fa8-2aa0-42ee-8ecf-5967738db5f4"
   },
   "outputs": [
    {
     "data": {
      "text/html": [],
      "text/plain": [
       "<IPython.core.display.HTML object>"
      ]
     },
     "metadata": {
      "tags": []
     },
     "output_type": "display_data"
    },
    {
     "name": "stdout",
     "output_type": "stream",
     "text": [
      "LR Finder is complete, type {learner_name}.recorder.plot() to see the graph.\n"
     ]
    }
   ],
   "source": [
    "learn.lr_find()"
   ]
  },
  {
   "cell_type": "code",
   "execution_count": 17,
   "metadata": {
    "colab": {
     "base_uri": "https://localhost:8080/",
     "height": 279
    },
    "colab_type": "code",
    "id": "-A0eJZVM_N3R",
    "outputId": "a4b846b6-d52e-435d-f950-af9d99131270"
   },
   "outputs": [
    {
     "data": {
      "image/png": "[encoded data removed]",
      "text/plain": [
       "<Figure size 432x288 with 1 Axes>"
      ]
     },
     "metadata": {
      "tags": []
     },
     "output_type": "display_data"
    }
   ],
   "source": [
    "learn.recorder.plot(skip_end=15)"
   ]
  },
  {
   "cell_type": "code",
   "execution_count": 18,
   "metadata": {
    "colab": {
     "base_uri": "https://localhost:8080/",
     "height": 80
    },
    "colab_type": "code",
    "id": "xG4bQuF3BuAl",
    "outputId": "dca89d13-9944-4277-f813-451c430516de"
   },
   "outputs": [
    {
     "data": {
      "text/html": [
       "<table border=\"1\" class=\"dataframe\">\n",
       "  <thead>\n",
       "    <tr style=\"text-align: left;\">\n",
       "      <th>epoch</th>\n",
       "      <th>train_loss</th>\n",
       "      <th>valid_loss</th>\n",
       "      <th>accuracy</th>\n",
       "      <th>time</th>\n",
       "    </tr>\n",
       "  </thead>\n",
       "  <tbody>\n",
       "    <tr>\n",
       "      <td>0</td>\n",
       "      <td>4.086286</td>\n",
       "      <td>3.964493</td>\n",
       "      <td>0.281841</td>\n",
       "      <td>09:47</td>\n",
       "    </tr>\n",
       "  </tbody>\n",
       "</table>"
      ],
      "text/plain": [
       "<IPython.core.display.HTML object>"
      ]
     },
     "metadata": {
      "tags": []
     },
     "output_type": "display_data"
    }
   ],
   "source": [
    "learn.fit_one_cycle(1, 1e-2, moms=(0.8,0.7))"
   ]
  },
  {
   "cell_type": "code",
   "execution_count": 0,
   "metadata": {
    "colab": {},
    "colab_type": "code",
    "id": "PAXysUr2EeQX"
   },
   "outputs": [],
   "source": [
    "TEXT = \"I liked this movie because\"\n",
    "N_WORDS = 40\n",
    "N_SENTENCES = 2"
   ]
  },
  {
   "cell_type": "code",
   "execution_count": 20,
   "metadata": {
    "colab": {
     "base_uri": "https://localhost:8080/",
     "height": 71
    },
    "colab_type": "code",
    "id": "5qYzxagZEhWD",
    "outputId": "3053bb64-7ec2-4c83-b3c0-8083d88b3ab7"
   },
   "outputs": [
    {
     "name": "stdout",
     "output_type": "stream",
     "text": [
      "I liked this movie because it was a great movie . It is an amazing movie that is also very well done . The cast is very strong . i have a great cast and a lot of great acting and make it\n",
      "I liked this movie because it was good and it was great . The movie was very funny and enjoyed many of the scenes . xxbos i am not sure how to understand which was the only problem . i is not sure what\n"
     ]
    }
   ],
   "source": [
    "print(\"\\n\".join(learn.predict(TEXT, N_WORDS, temperature=0.75) for _ in range(N_SENTENCES)))"
   ]
  },
  {
   "cell_type": "code",
   "execution_count": 0,
   "metadata": {
    "colab": {},
    "colab_type": "code",
    "id": "akLc9qxqBv3c"
   },
   "outputs": [],
   "source": [
    "learn.unfreeze()"
   ]
  },
  {
   "cell_type": "code",
   "execution_count": 22,
   "metadata": {
    "colab": {
     "base_uri": "https://localhost:8080/",
     "height": 204
    },
    "colab_type": "code",
    "id": "MlIU1XYxES2I",
    "outputId": "3bfe1c1e-972a-48ad-daaf-b6e80cfd73cc"
   },
   "outputs": [
    {
     "data": {
      "text/html": [
       "<table border=\"1\" class=\"dataframe\">\n",
       "  <thead>\n",
       "    <tr style=\"text-align: left;\">\n",
       "      <th>epoch</th>\n",
       "      <th>train_loss</th>\n",
       "      <th>valid_loss</th>\n",
       "      <th>accuracy</th>\n",
       "      <th>time</th>\n",
       "    </tr>\n",
       "  </thead>\n",
       "  <tbody>\n",
       "    <tr>\n",
       "      <td>0</td>\n",
       "      <td>3.787287</td>\n",
       "      <td>3.837858</td>\n",
       "      <td>0.296009</td>\n",
       "      <td>11:27</td>\n",
       "    </tr>\n",
       "    <tr>\n",
       "      <td>1</td>\n",
       "      <td>3.718283</td>\n",
       "      <td>3.778946</td>\n",
       "      <td>0.303654</td>\n",
       "      <td>11:26</td>\n",
       "    </tr>\n",
       "    <tr>\n",
       "      <td>2</td>\n",
       "      <td>3.523790</td>\n",
       "      <td>3.741859</td>\n",
       "      <td>0.308767</td>\n",
       "      <td>11:24</td>\n",
       "    </tr>\n",
       "    <tr>\n",
       "      <td>3</td>\n",
       "      <td>3.335048</td>\n",
       "      <td>3.739779</td>\n",
       "      <td>0.309967</td>\n",
       "      <td>11:24</td>\n",
       "    </tr>\n",
       "    <tr>\n",
       "      <td>4</td>\n",
       "      <td>3.196998</td>\n",
       "      <td>3.760168</td>\n",
       "      <td>0.308311</td>\n",
       "      <td>11:25</td>\n",
       "    </tr>\n",
       "  </tbody>\n",
       "</table>"
      ],
      "text/plain": [
       "<IPython.core.display.HTML object>"
      ]
     },
     "metadata": {
      "tags": []
     },
     "output_type": "display_data"
    }
   ],
   "source": [
    "learn.fit_one_cycle(5, 1e-3, moms=(0.8,0.7))"
   ]
  },
  {
   "cell_type": "code",
   "execution_count": 0,
   "metadata": {
    "colab": {},
    "colab_type": "code",
    "id": "-Morm4v2Etru"
   },
   "outputs": [],
   "source": [
    "TEXT = \"I liked this movie because\"\n",
    "N_WORDS = 40\n",
    "N_SENTENCES = 2"
   ]
  },
  {
   "cell_type": "code",
   "execution_count": 24,
   "metadata": {
    "colab": {
     "base_uri": "https://localhost:8080/",
     "height": 71
    },
    "colab_type": "code",
    "id": "1f1Ud10_TFZw",
    "outputId": "adfce480-7e57-416f-caa6-2549317930fc"
   },
   "outputs": [
    {
     "name": "stdout",
     "output_type": "stream",
     "text": [
      "I liked this movie because it shows how God changed my life . i like Jesus but the movie was a really good movie . xxbos i have read the entire Inc. series of books on the Ruined Island .\n",
      "I liked this movie because my favorite girl group sang the CD . It 's a great soundtrack to be heard if you 're a HUGE fan of The Party . xxbos If you were a fan of\n"
     ]
    }
   ],
   "source": [
    "print(\"\\n\".join(learn.predict(TEXT, N_WORDS, temperature=0.75) for _ in range(N_SENTENCES)))"
   ]
  },
  {
   "cell_type": "code",
   "execution_count": 0,
   "metadata": {
    "colab": {},
    "colab_type": "code",
    "id": "GnaszEPqTR3k"
   },
   "outputs": [],
   "source": [
    "learn.save('fine_tuned')"
   ]
  },
  {
   "cell_type": "code",
   "execution_count": 0,
   "metadata": {
    "colab": {},
    "colab_type": "code",
    "id": "nFCnd26XTTzW"
   },
   "outputs": [],
   "source": [
    "learn.load('fine_tuned');"
   ]
  },
  {
   "cell_type": "code",
   "execution_count": 0,
   "metadata": {
    "colab": {},
    "colab_type": "code",
    "id": "oCFYdlbUTYu8"
   },
   "outputs": [],
   "source": [
    "learn.save_encoder('fine_tuned_enc')"
   ]
  },
  {
   "cell_type": "code",
   "execution_count": 0,
   "metadata": {
    "colab": {},
    "colab_type": "code",
    "id": "Ycg9J6UnLMhj"
   },
   "outputs": [],
   "source": [
    "data_clas = (TextList.from_df(df, path, cols='text')\n",
    "                .split_from_df(col=2)\n",
    "                .label_from_df(cols=0)\n",
    "                .databunch(bs=bs))"
   ]
  },
  {
   "cell_type": "code",
   "execution_count": 29,
   "metadata": {
    "colab": {
     "base_uri": "https://localhost:8080/",
     "height": 34
    },
    "colab_type": "code",
    "id": "WsT8g8t9vdSA",
    "outputId": "b4062a0e-250b-4eba-c242-7cd6601cf2e3"
   },
   "outputs": [
    {
     "data": {
      "text/plain": [
       "True"
      ]
     },
     "execution_count": 29,
     "metadata": {
      "tags": []
     },
     "output_type": "execute_result"
    }
   ],
   "source": [
    "len(data_clas.vocab.itos) == len(data_lm.vocab.itos)"
   ]
  },
  {
   "cell_type": "code",
   "execution_count": 30,
   "metadata": {
    "colab": {
     "base_uri": "https://localhost:8080/",
     "height": 289
    },
    "colab_type": "code",
    "id": "NT-2_iMWa7Mj",
    "outputId": "1a0e2bee-3897-46da-bbd2-c247cb6c7cd8"
   },
   "outputs": [
    {
     "data": {
      "text/html": [
       "<table border=\"1\" class=\"dataframe\">\n",
       "  <thead>\n",
       "    <tr style=\"text-align: right;\">\n",
       "      <th>text</th>\n",
       "      <th>target</th>\n",
       "    </tr>\n",
       "  </thead>\n",
       "  <tbody>\n",
       "    <tr>\n",
       "      <td>xxbos xxup this xxup is xxup totally xxup one xxup of xxup the xxup best xxup books xxup ever xxup written ! xxup it xxup is a xxup great xxup ending xxup to xxup the xxup whole xxup lord xxup of xxup the xxup rings xxup series . xxup who xxup will xxup win xxup the xxup battle xxup over xxup xxunk xxup earth ? xxup can xxup all xxup</td>\n",
       "      <td>2</td>\n",
       "    </tr>\n",
       "    <tr>\n",
       "      <td>xxbos i xxup love xxup breaking xxup bad , xxup but i xxup hated xxup trying xxup to xxup watch xxup season 4 xxup on xxup amazon . xxup first xxup it xxup played xxup the xxup last xxup episode , xxup which xxup was xxup confusing xxup and a xxup spoiler , xxup then xxup when xxup it xxup played xxup episode xxup one , xxup it xxup kept</td>\n",
       "      <td>1</td>\n",
       "    </tr>\n",
       "    <tr>\n",
       "      <td>xxbos i 've been a fan of xxmaj steve xxmaj young 's , like for - xxup ever , honest - to - xxmaj god , i first saw him at the \" xxmaj young xxmaj folk \" xxmaj sunday afternoon show at the xxmaj newport xxmaj folk xxmaj festival in 1969 . i scoured xxmaj chicago for my first copy of the xxup xxunk record \" xxmaj steve xxmaj</td>\n",
       "      <td>2</td>\n",
       "    </tr>\n",
       "    <tr>\n",
       "      <td>xxbos xxmaj here is a solid compilation of xxmaj ernest xxmaj tubb ; a true xxmaj legend of xxmaj country &amp; xxmaj western xxmaj music . xxmaj folks , xxmaj ernest xxmaj tubb was authentic , and that is what music is all about xxrep 5 . especially xxmaj country xxmaj music . xxmaj noone did more for xxmaj western music than xxup et , and his contribution to true</td>\n",
       "      <td>2</td>\n",
       "    </tr>\n",
       "    <tr>\n",
       "      <td>xxbos xxmaj jackie xxmaj brown ... what can i say ? xxmaj excellent . i loved it . xxmaj elmore xxmaj leonard is the xxup best crime writer ever , and xxmaj quentin xxmaj tarantino is the best crime director ever ... so , they are such a great match . i wo n't give anything away , but the final scene at the mall had me on the edge</td>\n",
       "      <td>2</td>\n",
       "    </tr>\n",
       "  </tbody>\n",
       "</table>"
      ],
      "text/plain": [
       "<IPython.core.display.HTML object>"
      ]
     },
     "metadata": {
      "tags": []
     },
     "output_type": "display_data"
    }
   ],
   "source": [
    "data_clas.show_batch()"
   ]
  },
  {
   "cell_type": "code",
   "execution_count": 0,
   "metadata": {
    "colab": {},
    "colab_type": "code",
    "id": "bPY4_um3bvc-"
   },
   "outputs": [],
   "source": [
    "learn = text_classifier_learner(data_clas, AWD_LSTM, drop_mult=0.5)"
   ]
  },
  {
   "cell_type": "code",
   "execution_count": 32,
   "metadata": {
    "colab": {
     "base_uri": "https://localhost:8080/",
     "height": 1000
    },
    "colab_type": "code",
    "id": "ORw55iGdb1Q7",
    "outputId": "52b852b5-fd0d-44c1-f697-27ca855b861d"
   },
   "outputs": [
    {
     "data": {
      "text/plain": [
       "RNNLearner(data=TextClasDataBunch;\n",
       "\n",
       "Train: LabelList (45000 items)\n",
       "x: TextList\n",
       "xxbos xxmaj this knee strap has helped me greatly when i 'm having trouble sleeping from knee and foot pain . i do n't like to take over - the - counter meds all the time ( usually xxunk ) and i refuse to use any prescription pain killers to be able to sleep . xxmaj this knee strap helps relieve both knee and foot pain that i have been able to sleep most of the time without taking any meds . i sometimes use it while walking and it has helped relieve that pain too and support my knee well . xxmaj the top strap tends to slide down a lot , but the bottom strap has never slipped . xxmaj it needs some sort of side supports to help keep the top strap in place . ( i bought 2 of these from different vendors , so i 'm leaving feedback for both . ),xxbos xxmaj purchased 2 keyboards for grand daughters for xxmaj christmas . xxmaj they arrived quickly , brand new , as advertised . xxmaj the kids loved them and they were a good value . xxmaj very xxmaj happy !,xxbos xxmaj my sons xxunk camry coup needed a new xxunk regulator , as the passenger window would not go up . i decided to order one online , they are always cheaper , and i have had good results with amazon and there sellers . i was not disappointed , it was what i expected and the fit and installation was no problem . xxmaj works great !,xxbos i love this cell phone . i have n't had any trouble with it and i 've taken lots of photos . xxmaj the photos are good quality too .,xxbos xxmaj this movie is based on only a slightly fictional account of the xxmaj richard xxmaj loeb and xxmaj nathan xxmaj xxunk murder trial the occurred circa 1920 . xxmaj the xxmaj attorney ( xxmaj xxunk ? ) was , in reality , xxmaj clarence xxmaj xxunk . xxmaj the young reporter was actually the author of the book ( same name ) , xxmaj meyer xxmaj levin . xxmaj the book 's good too .\n",
       "y: CategoryList\n",
       "2,2,2,2,2\n",
       "Path: amazon_review_polarity_csv;\n",
       "\n",
       "Valid: LabelList (5000 items)\n",
       "x: TextList\n",
       "xxbos xxmaj there are so many problems with the plot that it is completely xxunk . xxmaj thousands of xxunk tripods have been buried for millions of years but none were ever accidentally dug up or other wise xxunk . xxmaj these xxunk are far more advanced than the people of earth but the have n't yet discovered xxunk . xxmaj the whole xxmaj earth is destroyed except the house his ex - wife is staying xxunk . xxmaj there is a flaw in the tripod that it can not suck you up into it if a couple of people hang on to xxunk . xxmaj when all the electronic equipment was fried buy the lighting strikes some equipment was still xxunk , etc .,xxbos i thought for sure these would still be made in the xxup usa . xxmaj wrong ! xxmaj made in xxmaj china . xxmaj so i went looking and decided it was worth sending this back for a refund . i then , on xxmaj ebay , found a revere original tea kettle in the original box from the 1960 's and i got it for $ 35 ( including the shipping ) i would have even settled for a like new one as well for much less than this xxmaj chinese piece of crap . xxmaj buy xxmaj american people - it is the only way we will win !,xxbos i 've worked with both video and music editing software , and this program is by far the most confusing and unintuitive i 've ever used . xxmaj it does not come with paper directions ( just a pdf file ) so finding help is difficult . i 'm sure its great software for those that have a year or two to figure it out , but i will keep looking for better designed software .,xxbos xxmaj could have been so much better . xxup ok story line , but poor audio and shallow character development leave you bored quickly . xxmaj recommend skipping , is n't worth your time or money .,xxbos xxmaj this pad is simply horrible . i 've only had it for 3 weeks and already the down arrow does n't register . xxmaj when i hit the left arrow it thinks i 'm pressing xxup b. xxmaj it often gives xxunk and xxunk when i hit the arrow directly on time . xxmaj it is a much better idea to buy the xxmaj xxunk and xxunk bundle when you get the game then to buy a different pad afterwards .\n",
       "y: CategoryList\n",
       "1,1,1,1,1\n",
       "Path: amazon_review_polarity_csv;\n",
       "\n",
       "Test: None, model=SequentialRNN(\n",
       "  (0): MultiBatchEncoder(\n",
       "    (module): AWD_LSTM(\n",
       "      (encoder): Embedding(28216, 400, padding_idx=1)\n",
       "      (encoder_dp): EmbeddingDropout(\n",
       "        (emb): Embedding(28216, 400, padding_idx=1)\n",
       "      )\n",
       "      (rnns): ModuleList(\n",
       "        (0): WeightDropout(\n",
       "          (module): LSTM(400, 1152, batch_first=True)\n",
       "        )\n",
       "        (1): WeightDropout(\n",
       "          (module): LSTM(1152, 1152, batch_first=True)\n",
       "        )\n",
       "        (2): WeightDropout(\n",
       "          (module): LSTM(1152, 400, batch_first=True)\n",
       "        )\n",
       "      )\n",
       "      (input_dp): RNNDropout()\n",
       "      (hidden_dps): ModuleList(\n",
       "        (0): RNNDropout()\n",
       "        (1): RNNDropout()\n",
       "        (2): RNNDropout()\n",
       "      )\n",
       "    )\n",
       "  )\n",
       "  (1): PoolingLinearClassifier(\n",
       "    (layers): Sequential(\n",
       "      (0): BatchNorm1d(1200, eps=1e-05, momentum=0.1, affine=True, track_running_stats=True)\n",
       "      (1): Dropout(p=0.2, inplace=False)\n",
       "      (2): Linear(in_features=1200, out_features=50, bias=True)\n",
       "      (3): ReLU(inplace=True)\n",
       "      (4): BatchNorm1d(50, eps=1e-05, momentum=0.1, affine=True, track_running_stats=True)\n",
       "      (5): Dropout(p=0.1, inplace=False)\n",
       "      (6): Linear(in_features=50, out_features=2, bias=True)\n",
       "    )\n",
       "  )\n",
       "), opt_func=functools.partial(<class 'torch.optim.adam.Adam'>, betas=(0.9, 0.99)), loss_func=FlattenedLoss of CrossEntropyLoss(), metrics=[<function accuracy at 0x7f65e6ecc730>], true_wd=True, bn_wd=True, wd=0.01, train_bn=True, path=PosixPath('amazon_review_polarity_csv'), model_dir='models', callback_fns=[functools.partial(<class 'fastai.basic_train.Recorder'>, add_time=True, silent=False)], callbacks=[RNNTrainer\n",
       "learn: RNNLearner(data=TextClasDataBunch;\n",
       "\n",
       "Train: LabelList (45000 items)\n",
       "x: TextList\n",
       "xxbos xxmaj this knee strap has helped me greatly when i 'm having trouble sleeping from knee and foot pain . i do n't like to take over - the - counter meds all the time ( usually xxunk ) and i refuse to use any prescription pain killers to be able to sleep . xxmaj this knee strap helps relieve both knee and foot pain that i have been able to sleep most of the time without taking any meds . i sometimes use it while walking and it has helped relieve that pain too and support my knee well . xxmaj the top strap tends to slide down a lot , but the bottom strap has never slipped . xxmaj it needs some sort of side supports to help keep the top strap in place . ( i bought 2 of these from different vendors , so i 'm leaving feedback for both . ),xxbos xxmaj purchased 2 keyboards for grand daughters for xxmaj christmas . xxmaj they arrived quickly , brand new , as advertised . xxmaj the kids loved them and they were a good value . xxmaj very xxmaj happy !,xxbos xxmaj my sons xxunk camry coup needed a new xxunk regulator , as the passenger window would not go up . i decided to order one online , they are always cheaper , and i have had good results with amazon and there sellers . i was not disappointed , it was what i expected and the fit and installation was no problem . xxmaj works great !,xxbos i love this cell phone . i have n't had any trouble with it and i 've taken lots of photos . xxmaj the photos are good quality too .,xxbos xxmaj this movie is based on only a slightly fictional account of the xxmaj richard xxmaj loeb and xxmaj nathan xxmaj xxunk murder trial the occurred circa 1920 . xxmaj the xxmaj attorney ( xxmaj xxunk ? ) was , in reality , xxmaj clarence xxmaj xxunk . xxmaj the young reporter was actually the author of the book ( same name ) , xxmaj meyer xxmaj levin . xxmaj the book 's good too .\n",
       "y: CategoryList\n",
       "2,2,2,2,2\n",
       "Path: amazon_review_polarity_csv;\n",
       "\n",
       "Valid: LabelList (5000 items)\n",
       "x: TextList\n",
       "xxbos xxmaj there are so many problems with the plot that it is completely xxunk . xxmaj thousands of xxunk tripods have been buried for millions of years but none were ever accidentally dug up or other wise xxunk . xxmaj these xxunk are far more advanced than the people of earth but the have n't yet discovered xxunk . xxmaj the whole xxmaj earth is destroyed except the house his ex - wife is staying xxunk . xxmaj there is a flaw in the tripod that it can not suck you up into it if a couple of people hang on to xxunk . xxmaj when all the electronic equipment was fried buy the lighting strikes some equipment was still xxunk , etc .,xxbos i thought for sure these would still be made in the xxup usa . xxmaj wrong ! xxmaj made in xxmaj china . xxmaj so i went looking and decided it was worth sending this back for a refund . i then , on xxmaj ebay , found a revere original tea kettle in the original box from the 1960 's and i got it for $ 35 ( including the shipping ) i would have even settled for a like new one as well for much less than this xxmaj chinese piece of crap . xxmaj buy xxmaj american people - it is the only way we will win !,xxbos i 've worked with both video and music editing software , and this program is by far the most confusing and unintuitive i 've ever used . xxmaj it does not come with paper directions ( just a pdf file ) so finding help is difficult . i 'm sure its great software for those that have a year or two to figure it out , but i will keep looking for better designed software .,xxbos xxmaj could have been so much better . xxup ok story line , but poor audio and shallow character development leave you bored quickly . xxmaj recommend skipping , is n't worth your time or money .,xxbos xxmaj this pad is simply horrible . i 've only had it for 3 weeks and already the down arrow does n't register . xxmaj when i hit the left arrow it thinks i 'm pressing xxup b. xxmaj it often gives xxunk and xxunk when i hit the arrow directly on time . xxmaj it is a much better idea to buy the xxmaj xxunk and xxunk bundle when you get the game then to buy a different pad afterwards .\n",
       "y: CategoryList\n",
       "1,1,1,1,1\n",
       "Path: amazon_review_polarity_csv;\n",
       "\n",
       "Test: None, model=SequentialRNN(\n",
       "  (0): MultiBatchEncoder(\n",
       "    (module): AWD_LSTM(\n",
       "      (encoder): Embedding(28216, 400, padding_idx=1)\n",
       "      (encoder_dp): EmbeddingDropout(\n",
       "        (emb): Embedding(28216, 400, padding_idx=1)\n",
       "      )\n",
       "      (rnns): ModuleList(\n",
       "        (0): WeightDropout(\n",
       "          (module): LSTM(400, 1152, batch_first=True)\n",
       "        )\n",
       "        (1): WeightDropout(\n",
       "          (module): LSTM(1152, 1152, batch_first=True)\n",
       "        )\n",
       "        (2): WeightDropout(\n",
       "          (module): LSTM(1152, 400, batch_first=True)\n",
       "        )\n",
       "      )\n",
       "      (input_dp): RNNDropout()\n",
       "      (hidden_dps): ModuleList(\n",
       "        (0): RNNDropout()\n",
       "        (1): RNNDropout()\n",
       "        (2): RNNDropout()\n",
       "      )\n",
       "    )\n",
       "  )\n",
       "  (1): PoolingLinearClassifier(\n",
       "    (layers): Sequential(\n",
       "      (0): BatchNorm1d(1200, eps=1e-05, momentum=0.1, affine=True, track_running_stats=True)\n",
       "      (1): Dropout(p=0.2, inplace=False)\n",
       "      (2): Linear(in_features=1200, out_features=50, bias=True)\n",
       "      (3): ReLU(inplace=True)\n",
       "      (4): BatchNorm1d(50, eps=1e-05, momentum=0.1, affine=True, track_running_stats=True)\n",
       "      (5): Dropout(p=0.1, inplace=False)\n",
       "      (6): Linear(in_features=50, out_features=2, bias=True)\n",
       "    )\n",
       "  )\n",
       "), opt_func=functools.partial(<class 'torch.optim.adam.Adam'>, betas=(0.9, 0.99)), loss_func=FlattenedLoss of CrossEntropyLoss(), metrics=[<function accuracy at 0x7f65e6ecc730>], true_wd=True, bn_wd=True, wd=0.01, train_bn=True, path=PosixPath('amazon_review_polarity_csv'), model_dir='models', callback_fns=[functools.partial(<class 'fastai.basic_train.Recorder'>, add_time=True, silent=False)], callbacks=[...], layer_groups=[Sequential(\n",
       "  (0): Embedding(28216, 400, padding_idx=1)\n",
       "  (1): EmbeddingDropout(\n",
       "    (emb): Embedding(28216, 400, padding_idx=1)\n",
       "  )\n",
       "), Sequential(\n",
       "  (0): WeightDropout(\n",
       "    (module): LSTM(400, 1152, batch_first=True)\n",
       "  )\n",
       "  (1): RNNDropout()\n",
       "), Sequential(\n",
       "  (0): WeightDropout(\n",
       "    (module): LSTM(1152, 1152, batch_first=True)\n",
       "  )\n",
       "  (1): RNNDropout()\n",
       "), Sequential(\n",
       "  (0): WeightDropout(\n",
       "    (module): LSTM(1152, 400, batch_first=True)\n",
       "  )\n",
       "  (1): RNNDropout()\n",
       "), Sequential(\n",
       "  (0): PoolingLinearClassifier(\n",
       "    (layers): Sequential(\n",
       "      (0): BatchNorm1d(1200, eps=1e-05, momentum=0.1, affine=True, track_running_stats=True)\n",
       "      (1): Dropout(p=0.2, inplace=False)\n",
       "      (2): Linear(in_features=1200, out_features=50, bias=True)\n",
       "      (3): ReLU(inplace=True)\n",
       "      (4): BatchNorm1d(50, eps=1e-05, momentum=0.1, affine=True, track_running_stats=True)\n",
       "      (5): Dropout(p=0.1, inplace=False)\n",
       "      (6): Linear(in_features=50, out_features=2, bias=True)\n",
       "    )\n",
       "  )\n",
       ")], add_time=True, silent=False)\n",
       "alpha: 2.0\n",
       "beta: 1.0], layer_groups=[Sequential(\n",
       "  (0): Embedding(28216, 400, padding_idx=1)\n",
       "  (1): EmbeddingDropout(\n",
       "    (emb): Embedding(28216, 400, padding_idx=1)\n",
       "  )\n",
       "), Sequential(\n",
       "  (0): WeightDropout(\n",
       "    (module): LSTM(400, 1152, batch_first=True)\n",
       "  )\n",
       "  (1): RNNDropout()\n",
       "), Sequential(\n",
       "  (0): WeightDropout(\n",
       "    (module): LSTM(1152, 1152, batch_first=True)\n",
       "  )\n",
       "  (1): RNNDropout()\n",
       "), Sequential(\n",
       "  (0): WeightDropout(\n",
       "    (module): LSTM(1152, 400, batch_first=True)\n",
       "  )\n",
       "  (1): RNNDropout()\n",
       "), Sequential(\n",
       "  (0): PoolingLinearClassifier(\n",
       "    (layers): Sequential(\n",
       "      (0): BatchNorm1d(1200, eps=1e-05, momentum=0.1, affine=True, track_running_stats=True)\n",
       "      (1): Dropout(p=0.2, inplace=False)\n",
       "      (2): Linear(in_features=1200, out_features=50, bias=True)\n",
       "      (3): ReLU(inplace=True)\n",
       "      (4): BatchNorm1d(50, eps=1e-05, momentum=0.1, affine=True, track_running_stats=True)\n",
       "      (5): Dropout(p=0.1, inplace=False)\n",
       "      (6): Linear(in_features=50, out_features=2, bias=True)\n",
       "    )\n",
       "  )\n",
       ")], add_time=True, silent=False)"
      ]
     },
     "execution_count": 32,
     "metadata": {
      "tags": []
     },
     "output_type": "execute_result"
    }
   ],
   "source": [
    "learn.load_encoder('fine_tuned_enc')"
   ]
  },
  {
   "cell_type": "code",
   "execution_count": 33,
   "metadata": {
    "colab": {
     "base_uri": "https://localhost:8080/",
     "height": 34
    },
    "colab_type": "code",
    "id": "4FLVf3GVcKgk",
    "outputId": "7c3f9be0-4bde-4a76-fba9-4501e23c39a3"
   },
   "outputs": [
    {
     "data": {
      "text/html": [],
      "text/plain": [
       "<IPython.core.display.HTML object>"
      ]
     },
     "metadata": {
      "tags": []
     },
     "output_type": "display_data"
    },
    {
     "name": "stdout",
     "output_type": "stream",
     "text": [
      "LR Finder is complete, type {learner_name}.recorder.plot() to see the graph.\n"
     ]
    }
   ],
   "source": [
    "learn.lr_find()"
   ]
  },
  {
   "cell_type": "code",
   "execution_count": 34,
   "metadata": {
    "colab": {
     "base_uri": "https://localhost:8080/",
     "height": 280
    },
    "colab_type": "code",
    "id": "3JfFz1YqcOYb",
    "outputId": "e14935db-e2b3-44d4-bdbe-def22be1c912"
   },
   "outputs": [
    {
     "data": {
      "image/png": "[encoded data removed]",
      "text/plain": [
       "<Figure size 432x288 with 1 Axes>"
      ]
     },
     "metadata": {
      "tags": []
     },
     "output_type": "display_data"
    }
   ],
   "source": [
    "learn.recorder.plot()"
   ]
  },
  {
   "cell_type": "code",
   "execution_count": 35,
   "metadata": {
    "colab": {
     "base_uri": "https://localhost:8080/",
     "height": 80
    },
    "colab_type": "code",
    "id": "01webHVfcT6I",
    "outputId": "9f077ca2-7775-49cb-8311-53e1c72a5c7c"
   },
   "outputs": [
    {
     "data": {
      "text/html": [
       "<table border=\"1\" class=\"dataframe\">\n",
       "  <thead>\n",
       "    <tr style=\"text-align: left;\">\n",
       "      <th>epoch</th>\n",
       "      <th>train_loss</th>\n",
       "      <th>valid_loss</th>\n",
       "      <th>accuracy</th>\n",
       "      <th>time</th>\n",
       "    </tr>\n",
       "  </thead>\n",
       "  <tbody>\n",
       "    <tr>\n",
       "      <td>0</td>\n",
       "      <td>0.336556</td>\n",
       "      <td>0.318714</td>\n",
       "      <td>0.868000</td>\n",
       "      <td>03:27</td>\n",
       "    </tr>\n",
       "  </tbody>\n",
       "</table>"
      ],
      "text/plain": [
       "<IPython.core.display.HTML object>"
      ]
     },
     "metadata": {
      "tags": []
     },
     "output_type": "display_data"
    }
   ],
   "source": [
    "learn.fit_one_cycle(1, 1e-2, moms=(0.8,0.7))"
   ]
  },
  {
   "cell_type": "code",
   "execution_count": 36,
   "metadata": {
    "colab": {
     "base_uri": "https://localhost:8080/",
     "height": 34
    },
    "colab_type": "code",
    "id": "Uqr3YXvicVkt",
    "outputId": "b77eaa80-f3b2-46b9-e2ff-48ca0d7319ca"
   },
   "outputs": [
    {
     "data": {
      "text/plain": [
       "(Category 2, tensor(1), tensor([0.0114, 0.9886]))"
      ]
     },
     "execution_count": 36,
     "metadata": {
      "tags": []
     },
     "output_type": "execute_result"
    }
   ],
   "source": [
    "learn.predict(\"I really loved that movie, it was awesome!\")"
   ]
  },
  {
   "cell_type": "code",
   "execution_count": 37,
   "metadata": {
    "colab": {
     "base_uri": "https://localhost:8080/",
     "height": 34
    },
    "colab_type": "code",
    "id": "BN04GlwXdolw",
    "outputId": "e5a1519d-0ea7-411b-8cd1-182b68c016e9"
   },
   "outputs": [
    {
     "data": {
      "text/plain": [
       "(Category 2, tensor(1), tensor([0.0619, 0.9381]))"
      ]
     },
     "execution_count": 37,
     "metadata": {
      "tags": []
     },
     "output_type": "execute_result"
    }
   ],
   "source": [
    "learn.predict(\"I enjoyed using the dishwasher.\")"
   ]
  },
  {
   "cell_type": "code",
   "execution_count": 38,
   "metadata": {
    "colab": {
     "base_uri": "https://localhost:8080/",
     "height": 34
    },
    "colab_type": "code",
    "id": "A0-B07uC8Ml5",
    "outputId": "0a296ebd-f347-4ca3-aa44-48b358724ae3"
   },
   "outputs": [
    {
     "data": {
      "text/plain": [
       "(Category 1, tensor(0), tensor([0.7888, 0.2112]))"
      ]
     },
     "execution_count": 38,
     "metadata": {
      "tags": []
     },
     "output_type": "execute_result"
    }
   ],
   "source": [
    "learn.predict(\"The product was bit too expensive for the quality provided.\")"
   ]
  },
  {
   "cell_type": "code",
   "execution_count": 40,
   "metadata": {
    "colab": {
     "base_uri": "https://localhost:8080/",
     "height": 34
    },
    "colab_type": "code",
    "id": "fafivvSCIK_J",
    "outputId": "44081791-ac21-4467-a13c-653856c7723d"
   },
   "outputs": [
    {
     "data": {
      "text/plain": [
       "(Category 2, tensor(1), tensor([0.0756, 0.9244]))"
      ]
     },
     "execution_count": 40,
     "metadata": {
      "tags": []
     },
     "output_type": "execute_result"
    }
   ],
   "source": [
    "learn.predict(\"These earphones are really cheap and have a great sound.\")"
   ]
  },
  {
   "cell_type": "code",
   "execution_count": 41,
   "metadata": {
    "colab": {
     "base_uri": "https://localhost:8080/",
     "height": 34
    },
    "colab_type": "code",
    "id": "gjXcHkxvIVAF",
    "outputId": "b4f564fa-0a15-4e16-9993-348d25db410b"
   },
   "outputs": [
    {
     "data": {
      "text/plain": [
       "(Category 2, tensor(1), tensor([0.0583, 0.9417]))"
      ]
     },
     "execution_count": 41,
     "metadata": {
      "tags": []
     },
     "output_type": "execute_result"
    }
   ],
   "source": [
    "learn.predict(\"The fan is suitable for a small room.\")"
   ]
  },
  {
   "cell_type": "code",
   "execution_count": 42,
   "metadata": {
    "colab": {
     "base_uri": "https://localhost:8080/",
     "height": 34
    },
    "colab_type": "code",
    "id": "soKzygxwIdQO",
    "outputId": "96ddaf7e-87a9-46c2-9d96-437ee0160a44"
   },
   "outputs": [
    {
     "data": {
      "text/plain": [
       "(Category 1, tensor(0), tensor([0.9263, 0.0737]))"
      ]
     },
     "execution_count": 42,
     "metadata": {
      "tags": []
     },
     "output_type": "execute_result"
    }
   ],
   "source": [
    "learn.predict(\"The bag I ordered did not match the one shown on the website.\")"
   ]
  },
  {
   "cell_type": "code",
   "execution_count": 43,
   "metadata": {
    "colab": {
     "base_uri": "https://localhost:8080/",
     "height": 34
    },
    "colab_type": "code",
    "id": "uEGLro8xIrps",
    "outputId": "5d7111de-c386-451a-eb20-125ca71c4a71"
   },
   "outputs": [
    {
     "data": {
      "text/plain": [
       "(Category 1, tensor(0), tensor([0.9843, 0.0157]))"
      ]
     },
     "execution_count": 43,
     "metadata": {
      "tags": []
     },
     "output_type": "execute_result"
    }
   ],
   "source": [
    "learn.predict(\"I did not receive the refund for over a week.\")"
   ]
  }
 ],
 "metadata": {
  "accelerator": "GPU",
  "colab": {
   "collapsed_sections": [],
   "name": "ULMFiT_AmazonReviews.ipynb",
   "provenance": []
  },
  "kernelspec": {
   "display_name": "Python 3",
   "language": "python",
   "name": "python3"
  },
  "language_info": {
   "codemirror_mode": {
    "name": "ipython",
    "version": 3
   },
   "file_extension": ".py",
   "mimetype": "text/x-python",
   "name": "python",
   "nbconvert_exporter": "python",
   "pygments_lexer": "ipython3",
   "version": "3.7.4"
  },
  "toc": {
   "base_numbering": 1,
   "nav_menu": {},
   "number_sections": true,
   "sideBar": true,
   "skip_h1_title": false,
   "title_cell": "Table of Contents",
   "title_sidebar": "Contents",
   "toc_cell": false,
   "toc_position": {},
   "toc_section_display": true,
   "toc_window_display": false
  }
 },
 "nbformat": 4,
 "nbformat_minor": 1
}
